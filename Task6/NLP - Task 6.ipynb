{
 "cells": [
  {
   "cell_type": "markdown",
   "metadata": {},
   "source": [
    "**Word Sense Disambiguation**"
   ]
  },
  {
   "cell_type": "markdown",
   "metadata": {},
   "source": [
    "**[\n",
    "[word1, [sentence1, sentence2 ...], description, postag] ,\n",
    "[word2, .....................................................................],\n",
    ".\n",
    ".\n",
    ".\n",
    ".\n",
    "]**"
   ]
  },
  {
   "cell_type": "code",
   "execution_count": 1,
   "metadata": {},
   "outputs": [],
   "source": [
    "from trLemmer import MorphAnalyzer\n",
    "lemmatizer = MorphAnalyzer()\n",
    "wsd = []"
   ]
  },
  {
   "cell_type": "code",
   "execution_count": 2,
   "metadata": {},
   "outputs": [],
   "source": [
    "def create(word, description, postag):\n",
    "    wsd.append([word, [], postag, description])"
   ]
  },
  {
   "cell_type": "code",
   "execution_count": 3,
   "metadata": {},
   "outputs": [],
   "source": [
    "def add(sent, word, postag):\n",
    "    isThereOnList = False\n",
    "    indexCount = 0\n",
    "    for i in wsd:\n",
    "        if i[0] == word and i[2] == postag:\n",
    "            isThereOnList = True\n",
    "            break\n",
    "        else:\n",
    "            indexCount = indexCount + 1\n",
    "    if isThereOnList:\n",
    "        wsd[indexCount][1].append(sent)\n",
    "    else:\n",
    "        return \"Böyle bir kelime yok!\""
   ]
  },
  {
   "cell_type": "code",
   "execution_count": 4,
   "metadata": {},
   "outputs": [],
   "source": [
    "def examples(word):\n",
    "    indexCount = 0\n",
    "    for i in wsd:\n",
    "        if i[0] == word:\n",
    "            print(\"Examples of\", word, \"(\", i[2], \")\", \": \\n\", wsd[indexCount][1])\n",
    "        indexCount = indexCount + 1            "
   ]
  },
  {
   "cell_type": "code",
   "execution_count": 5,
   "metadata": {},
   "outputs": [],
   "source": [
    "def description(word):\n",
    "    postagCount = []\n",
    "    isThereOnList = False\n",
    "    indexCount = 0\n",
    "    for i in wsd:\n",
    "        if i[0] == word:\n",
    "            for j in postagCount:\n",
    "                if j != i[2]:\n",
    "                    print(\"Description of\", word, \"(\", i[2], \")\", \": \\n\",  wsd[indexCount][3])\n",
    "                    postagCount.append(i[2])\n",
    "        indexCount = indexCount + 1       "
   ]
  },
  {
   "cell_type": "code",
   "execution_count": 6,
   "metadata": {},
   "outputs": [],
   "source": [
    "def lesk(words, index):\n",
    "    lemmatizer = MorphAnalyzer()\n",
    "    distanceWeight = []\n",
    "    distancePostag = []\n",
    "    for l in words:\n",
    "        word = lemmatizer.lemmatize(l)[0]\n",
    "        for i in wsd:\n",
    "            if i[0] == str(word):\n",
    "                for j in i[1]:\n",
    "                    for k in j:\n",
    "                        distanceWeight.append([levenshteinDistanceDP(lemmatizer.lemmatize(k)[0], lemmatizer.lemmatize(words[index])[0], False), i[2]])\n",
    "            similar = i\n",
    "            break\n",
    "    minDistance = [100, \"\"]\n",
    "    for i in distanceWeight:\n",
    "        if i[0] < minDistance[0]:\n",
    "            minDistance = i\n",
    "    for i in distanceWeight:\n",
    "        if i[0] == minDistance[0]:\n",
    "            distancePostag.append(i[1])\n",
    "    for i in wsd:\n",
    "        if i[0] == str(lemmatizer.lemmatize(words[index])[0]) and i[2] == minDistance[1]:\n",
    "            description = i[3]\n",
    "    return lemmatizer.lemmatize(words[index])[0], minDistance, \"-->\", description"
   ]
  },
  {
   "cell_type": "code",
   "execution_count": 7,
   "metadata": {},
   "outputs": [],
   "source": [
    "def printDistances(distances, token1Length, token2Length):\n",
    "    for t1 in range(token1Length + 1):\n",
    "        for t2 in range(token2Length + 1):\n",
    "            print(int(distances[t1][t2]), end=\" \")\n",
    "        print()"
   ]
  },
  {
   "cell_type": "code",
   "execution_count": 8,
   "metadata": {},
   "outputs": [],
   "source": [
    "def levenshteinDistanceDP(token1, token2, print = True):\n",
    "    distances = numpy.zeros((len(token1) + 1, len(token2) + 1))\n",
    "\n",
    "    for t1 in range(len(token1) + 1):\n",
    "        distances[t1][0] = t1\n",
    "\n",
    "    for t2 in range(len(token2) + 1):\n",
    "        distances[0][t2] = t2\n",
    "        \n",
    "    a = 0\n",
    "    b = 0\n",
    "    c = 0\n",
    "    \n",
    "    for t1 in range(1, len(token1) + 1):\n",
    "        for t2 in range(1, len(token2) + 1):\n",
    "            if (token1[t1-1] == token2[t2-1]):\n",
    "                distances[t1][t2] = distances[t1 - 1][t2 - 1]\n",
    "            else:\n",
    "                a = distances[t1][t2 - 1]\n",
    "                b = distances[t1 - 1][t2]\n",
    "                c = distances[t1 - 1][t2 - 1]\n",
    "                \n",
    "                if (a <= b and a <= c):\n",
    "                    distances[t1][t2] = a + 1\n",
    "                elif (b <= a and b <= c):\n",
    "                    distances[t1][t2] = b + 1\n",
    "                else:\n",
    "                    distances[t1][t2] = c + 1\n",
    "    if print:\n",
    "        printDistances(distances, len(token1), len(token2))\n",
    "    return distances[len(token1)][len(token2)]"
   ]
  },
  {
   "cell_type": "code",
   "execution_count": 9,
   "metadata": {},
   "outputs": [],
   "source": [
    "create('metin', 'Bir yazıyı biçim, anlatım ve noktalama özellikleriyle oluşturan kelimelerin bütünü, tekst', 'isim')"
   ]
  },
  {
   "cell_type": "code",
   "execution_count": 10,
   "metadata": {},
   "outputs": [],
   "source": [
    "add(['Topladığın', 'metinleri', 'kağıda', 'yaz', '.'], 'metin', 'isim')"
   ]
  },
  {
   "cell_type": "code",
   "execution_count": 11,
   "metadata": {},
   "outputs": [
    {
     "data": {
      "text/plain": [
       "[['metin',\n",
       "  [['Topladığın', 'metinleri', 'kağıda', 'yaz', '.']],\n",
       "  'isim',\n",
       "  'Bir yazıyı biçim, anlatım ve noktalama özellikleriyle oluşturan kelimelerin bütünü, tekst']]"
      ]
     },
     "execution_count": 11,
     "metadata": {},
     "output_type": "execute_result"
    }
   ],
   "source": [
    "wsd"
   ]
  },
  {
   "cell_type": "code",
   "execution_count": 12,
   "metadata": {},
   "outputs": [
    {
     "data": {
      "text/plain": [
       "'Böyle bir kelime yok!'"
      ]
     },
     "execution_count": 12,
     "metadata": {},
     "output_type": "execute_result"
    }
   ],
   "source": [
    "add(['Kendisi', 'çok', 'metin', 'bir', 'insan', '.'], 'metin', 'sıfat')"
   ]
  },
  {
   "cell_type": "code",
   "execution_count": 13,
   "metadata": {},
   "outputs": [],
   "source": [
    "create('metin', 'acılara dayanabilen, dayanıklı kimse', 'sıfat')"
   ]
  },
  {
   "cell_type": "code",
   "execution_count": 14,
   "metadata": {},
   "outputs": [
    {
     "data": {
      "text/plain": [
       "[['metin',\n",
       "  [['Topladığın', 'metinleri', 'kağıda', 'yaz', '.']],\n",
       "  'isim',\n",
       "  'Bir yazıyı biçim, anlatım ve noktalama özellikleriyle oluşturan kelimelerin bütünü, tekst'],\n",
       " ['metin', [], 'sıfat', 'acılara dayanabilen, dayanıklı kimse']]"
      ]
     },
     "execution_count": 14,
     "metadata": {},
     "output_type": "execute_result"
    }
   ],
   "source": [
    "wsd"
   ]
  },
  {
   "cell_type": "code",
   "execution_count": 15,
   "metadata": {},
   "outputs": [],
   "source": [
    "add(['Kendisi', 'çok', 'metin', 'bir', 'insan', '.'], 'metin', 'sıfat')"
   ]
  },
  {
   "cell_type": "code",
   "execution_count": 16,
   "metadata": {},
   "outputs": [
    {
     "data": {
      "text/plain": [
       "[['metin',\n",
       "  [['Topladığın', 'metinleri', 'kağıda', 'yaz', '.']],\n",
       "  'isim',\n",
       "  'Bir yazıyı biçim, anlatım ve noktalama özellikleriyle oluşturan kelimelerin bütünü, tekst'],\n",
       " ['metin',\n",
       "  [['Kendisi', 'çok', 'metin', 'bir', 'insan', '.']],\n",
       "  'sıfat',\n",
       "  'acılara dayanabilen, dayanıklı kimse']]"
      ]
     },
     "execution_count": 16,
     "metadata": {},
     "output_type": "execute_result"
    }
   ],
   "source": [
    "wsd"
   ]
  },
  {
   "cell_type": "code",
   "execution_count": 17,
   "metadata": {
    "scrolled": true
   },
   "outputs": [],
   "source": [
    "create('yaz', 'Kuzey yarım kürede 21 Haziran 23 Eylül tarihleri arasındaki zaman dilimi, ilkbaharla sonbahar arasındaki sıcak mevsim', 'isim')\n",
    "create('yaz', 'Nakşetmek, resmetmek, süsleyip bezemek.', 'fiil')"
   ]
  },
  {
   "cell_type": "code",
   "execution_count": 18,
   "metadata": {},
   "outputs": [],
   "source": [
    "add(['Yaz', 'sıcaklarını', 'hiç', 'sevmem', '.'], 'yaz', 'isim')"
   ]
  },
  {
   "cell_type": "code",
   "execution_count": 19,
   "metadata": {
    "scrolled": false
   },
   "outputs": [
    {
     "data": {
      "text/plain": [
       "[['metin',\n",
       "  [['Topladığın', 'metinleri', 'kağıda', 'yaz', '.']],\n",
       "  'isim',\n",
       "  'Bir yazıyı biçim, anlatım ve noktalama özellikleriyle oluşturan kelimelerin bütünü, tekst'],\n",
       " ['metin',\n",
       "  [['Kendisi', 'çok', 'metin', 'bir', 'insan', '.']],\n",
       "  'sıfat',\n",
       "  'acılara dayanabilen, dayanıklı kimse'],\n",
       " ['yaz',\n",
       "  [['Yaz', 'sıcaklarını', 'hiç', 'sevmem', '.']],\n",
       "  'isim',\n",
       "  'Kuzey yarım kürede 21 Haziran 23 Eylül tarihleri arasındaki zaman dilimi, ilkbaharla sonbahar arasındaki sıcak mevsim'],\n",
       " ['yaz', [], 'fiil', 'Nakşetmek, resmetmek, süsleyip bezemek.']]"
      ]
     },
     "execution_count": 19,
     "metadata": {},
     "output_type": "execute_result"
    }
   ],
   "source": [
    "wsd"
   ]
  },
  {
   "cell_type": "code",
   "execution_count": 20,
   "metadata": {},
   "outputs": [],
   "source": [
    "add(['Sunumda', 'geçen', 'konuları', 'yaz', '.'], 'yaz', 'fiil')"
   ]
  },
  {
   "cell_type": "code",
   "execution_count": 21,
   "metadata": {},
   "outputs": [],
   "source": [
    "add(['Metinde', 'geçen', 'bilgileri', 'yazdım', '.'], 'yaz', 'fiil')"
   ]
  },
  {
   "cell_type": "code",
   "execution_count": 22,
   "metadata": {},
   "outputs": [
    {
     "data": {
      "text/plain": [
       "[['metin',\n",
       "  [['Topladığın', 'metinleri', 'kağıda', 'yaz', '.']],\n",
       "  'isim',\n",
       "  'Bir yazıyı biçim, anlatım ve noktalama özellikleriyle oluşturan kelimelerin bütünü, tekst'],\n",
       " ['metin',\n",
       "  [['Kendisi', 'çok', 'metin', 'bir', 'insan', '.']],\n",
       "  'sıfat',\n",
       "  'acılara dayanabilen, dayanıklı kimse'],\n",
       " ['yaz',\n",
       "  [['Yaz', 'sıcaklarını', 'hiç', 'sevmem', '.']],\n",
       "  'isim',\n",
       "  'Kuzey yarım kürede 21 Haziran 23 Eylül tarihleri arasındaki zaman dilimi, ilkbaharla sonbahar arasındaki sıcak mevsim'],\n",
       " ['yaz',\n",
       "  [['Sunumda', 'geçen', 'konuları', 'yaz', '.'],\n",
       "   ['Metinde', 'geçen', 'bilgileri', 'yazdım', '.']],\n",
       "  'fiil',\n",
       "  'Nakşetmek, resmetmek, süsleyip bezemek.']]"
      ]
     },
     "execution_count": 22,
     "metadata": {},
     "output_type": "execute_result"
    }
   ],
   "source": [
    "wsd"
   ]
  },
  {
   "cell_type": "code",
   "execution_count": 23,
   "metadata": {},
   "outputs": [
    {
     "name": "stdout",
     "output_type": "stream",
     "text": [
      "Examples of yaz ( isim ) : \n",
      " [['Yaz', 'sıcaklarını', 'hiç', 'sevmem', '.']]\n",
      "Examples of yaz ( fiil ) : \n",
      " [['Sunumda', 'geçen', 'konuları', 'yaz', '.'], ['Metinde', 'geçen', 'bilgileri', 'yazdım', '.']]\n"
     ]
    }
   ],
   "source": [
    "examples('yaz')"
   ]
  },
  {
   "cell_type": "code",
   "execution_count": 24,
   "metadata": {},
   "outputs": [
    {
     "name": "stdout",
     "output_type": "stream",
     "text": [
      "Examples of metin ( isim ) : \n",
      " [['Topladığın', 'metinleri', 'kağıda', 'yaz', '.']]\n",
      "Examples of metin ( sıfat ) : \n",
      " [['Kendisi', 'çok', 'metin', 'bir', 'insan', '.']]\n"
     ]
    }
   ],
   "source": [
    "examples('metin')"
   ]
  },
  {
   "cell_type": "code",
   "execution_count": 25,
   "metadata": {},
   "outputs": [
    {
     "name": "stdout",
     "output_type": "stream",
     "text": [
      "['metîn', 'metin']\n",
      "['geçmek', 'geçen']\n",
      "['bilgi']\n",
      "['yazmak', 'yaz']\n",
      "['.']\n"
     ]
    }
   ],
   "source": [
    "for i in wsd[3][1][1]:\n",
    "    print(lemmatizer.lemmatize(i))"
   ]
  },
  {
   "cell_type": "code",
   "execution_count": 26,
   "metadata": {},
   "outputs": [
    {
     "name": "stdout",
     "output_type": "stream",
     "text": [
      "['Topladığın', 'metinleri', 'kağıda', 'yaz', '.']\n",
      "toplamak\n",
      "metîn\n",
      "kâğıt\n",
      "yazmak\n",
      ".\n"
     ]
    }
   ],
   "source": [
    "print(wsd[0][1][0])\n",
    "for i in wsd[0][1]:\n",
    "    for j in i:\n",
    "        print(lemmatizer.lemmatize(j)[0])"
   ]
  },
  {
   "cell_type": "code",
   "execution_count": 27,
   "metadata": {},
   "outputs": [
    {
     "name": "stdout",
     "output_type": "stream",
     "text": [
      "['Metinde', 'geçen', 'bilgileri', 'yazdım', '.']\n",
      "metîn\n",
      "geçmek\n",
      "bilgi\n",
      "yazmak\n",
      ".\n"
     ]
    }
   ],
   "source": [
    "print(wsd[3][1][1])\n",
    "for i in wsd[3][1][1]:\n",
    "    print(lemmatizer.lemmatize(i)[0])"
   ]
  },
  {
   "cell_type": "code",
   "execution_count": 42,
   "metadata": {},
   "outputs": [
    {
     "name": "stdout",
     "output_type": "stream",
     "text": [
      "0 1 2 3 4 \n",
      "1 0 1 2 3 \n",
      "2 1 0 1 2 \n",
      "3 2 1 0 1 \n",
      "4 3 2 1 0 \n"
     ]
    },
    {
     "data": {
      "text/plain": [
       "0.0"
      ]
     },
     "execution_count": 42,
     "metadata": {},
     "output_type": "execute_result"
    }
   ],
   "source": [
    "levenshteinDistanceDP(\"asla\", \"asla\")"
   ]
  },
  {
   "cell_type": "code",
   "execution_count": null,
   "metadata": {},
   "outputs": [],
   "source": [
    "for i in wsd[0][1][0]:\n",
    "    print(lemmatizer.lemmatize(i)[0], \"x\", \"yaz\")\n",
    "    print(levenshteinDistanceDP(lemmatizer.lemmatize(i)[0], \"yaz\"))"
   ]
  },
  {
   "cell_type": "code",
   "execution_count": null,
   "metadata": {},
   "outputs": [],
   "source": [
    "lesk([\"Verdiğim\", \"metinlere\", \"iyi\", \"bak\"], 1)"
   ]
  },
  {
   "cell_type": "code",
   "execution_count": null,
   "metadata": {},
   "outputs": [],
   "source": []
  },
  {
   "cell_type": "code",
   "execution_count": null,
   "metadata": {},
   "outputs": [],
   "source": []
  }
 ],
 "metadata": {
  "kernelspec": {
   "display_name": "Python 3",
   "language": "python",
   "name": "python3"
  },
  "language_info": {
   "codemirror_mode": {
    "name": "ipython",
    "version": 3
   },
   "file_extension": ".py",
   "mimetype": "text/x-python",
   "name": "python",
   "nbconvert_exporter": "python",
   "pygments_lexer": "ipython3",
   "version": "3.7.5"
  }
 },
 "nbformat": 4,
 "nbformat_minor": 4
}

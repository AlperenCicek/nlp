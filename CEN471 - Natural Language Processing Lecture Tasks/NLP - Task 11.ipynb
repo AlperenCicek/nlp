{
 "cells": [
  {
   "cell_type": "code",
   "execution_count": 1,
   "metadata": {},
   "outputs": [],
   "source": [
    "from nltk import tokenize\n",
    "from operator import itemgetter\n",
    "import math"
   ]
  },
  {
   "cell_type": "code",
   "execution_count": 12,
   "metadata": {},
   "outputs": [],
   "source": [
    "doc = 'i am a graduate. i want to learn Python. i like learning Python. Python is easy. Python is interesting. learning increases thinking. everyone should invest time in learning'"
   ]
  },
  {
   "cell_type": "code",
   "execution_count": 13,
   "metadata": {},
   "outputs": [],
   "source": [
    "import nltk\n",
    "from nltk.corpus import stopwords\n",
    "from nltk.tokenize import word_tokenize \n",
    "stop_words = set(stopwords.words('english'))"
   ]
  },
  {
   "cell_type": "code",
   "execution_count": 14,
   "metadata": {},
   "outputs": [
    {
     "data": {
      "text/plain": [
       "28"
      ]
     },
     "execution_count": 14,
     "metadata": {},
     "output_type": "execute_result"
    }
   ],
   "source": [
    "total_words = doc.split()\n",
    "total_word_length = len(total_words)\n",
    "total_word_length"
   ]
  },
  {
   "cell_type": "code",
   "execution_count": 15,
   "metadata": {},
   "outputs": [
    {
     "data": {
      "text/plain": [
       "7"
      ]
     },
     "execution_count": 15,
     "metadata": {},
     "output_type": "execute_result"
    }
   ],
   "source": [
    "total_sentences = tokenize.sent_tokenize(doc)\n",
    "total_sent_len = len(total_sentences)\n",
    "total_sent_len"
   ]
  },
  {
   "cell_type": "markdown",
   "metadata": {},
   "source": [
    "**Term Frequency :**\n",
    " How frequently a term occurs in a text. It is measured as the number of times a term t appears in the text / Total number of words in the document"
   ]
  },
  {
   "cell_type": "code",
   "execution_count": 16,
   "metadata": {},
   "outputs": [
    {
     "data": {
      "text/plain": [
       "{'graduate': 0.03571428571428571,\n",
       " 'want': 0.03571428571428571,\n",
       " 'learn': 0.03571428571428571,\n",
       " 'Python': 0.14285714285714285,\n",
       " 'like': 0.03571428571428571,\n",
       " 'learning': 0.10714285714285714,\n",
       " 'easy': 0.03571428571428571,\n",
       " 'interesting': 0.03571428571428571,\n",
       " 'increases': 0.03571428571428571,\n",
       " 'thinking': 0.03571428571428571,\n",
       " 'everyone': 0.03571428571428571,\n",
       " 'invest': 0.03571428571428571,\n",
       " 'time': 0.03571428571428571}"
      ]
     },
     "execution_count": 16,
     "metadata": {},
     "output_type": "execute_result"
    }
   ],
   "source": [
    "tf_score = {}\n",
    "for each_word in total_words:\n",
    "    each_word = each_word.replace('.','')\n",
    "    if each_word not in stop_words:\n",
    "        if each_word in tf_score:\n",
    "            tf_score[each_word] += 1\n",
    "        else:\n",
    "            tf_score[each_word] = 1\n",
    "\n",
    "# Dividing by total_word_length for each dictionary element\n",
    "tf_score.update((x, y/int(total_word_length)) for x, y in tf_score.items())\n",
    "tf_score"
   ]
  },
  {
   "cell_type": "code",
   "execution_count": 17,
   "metadata": {},
   "outputs": [],
   "source": [
    "def check_sent(word, sentences): \n",
    "    final = [all([w in x for w in word]) for x in sentences] \n",
    "    sent_len = [sentences[i] for i in range(0, len(final)) if final[i]]\n",
    "    return int(len(sent_len))"
   ]
  },
  {
   "cell_type": "markdown",
   "metadata": {},
   "source": [
    "**Inverse Document Frequency :** How important a word is in a document. It is measured as log(total number of sentences / Number of sentences with term t)"
   ]
  },
  {
   "cell_type": "code",
   "execution_count": 18,
   "metadata": {},
   "outputs": [
    {
     "data": {
      "text/plain": [
       "{'graduate': 1.9459101490553132,\n",
       " 'want': 1.9459101490553132,\n",
       " 'learn': 1.9459101490553132,\n",
       " 'Python': 0.5596157879354227,\n",
       " 'like': 1.9459101490553132,\n",
       " 'learning': 0.8472978603872037,\n",
       " 'easy': 1.9459101490553132,\n",
       " 'interesting': 1.9459101490553132,\n",
       " 'increases': 1.9459101490553132,\n",
       " 'thinking': 1.9459101490553132,\n",
       " 'everyone': 1.9459101490553132,\n",
       " 'invest': 1.9459101490553132,\n",
       " 'time': 1.9459101490553132}"
      ]
     },
     "execution_count": 18,
     "metadata": {},
     "output_type": "execute_result"
    }
   ],
   "source": [
    "idf_score = {}\n",
    "for each_word in total_words:\n",
    "    each_word = each_word.replace('.','')\n",
    "    if each_word not in stop_words:\n",
    "        if each_word in idf_score:\n",
    "            idf_score[each_word] = check_sent(each_word, total_sentences)\n",
    "        else:\n",
    "            idf_score[each_word] = 1\n",
    "\n",
    "# Performing a log and divide\n",
    "idf_score.update((x, math.log(int(total_sent_len)/y)) for x, y in idf_score.items())\n",
    "\n",
    "idf_score"
   ]
  },
  {
   "cell_type": "markdown",
   "metadata": {},
   "source": [
    "**TF-IDF :** Words’ importance is measure by this score. It is measured as TF * IDF"
   ]
  },
  {
   "cell_type": "code",
   "execution_count": 19,
   "metadata": {},
   "outputs": [
    {
     "data": {
      "text/plain": [
       "{'graduate': 0.06949679103768976,\n",
       " 'want': 0.06949679103768976,\n",
       " 'learn': 0.06949679103768976,\n",
       " 'Python': 0.07994511256220323,\n",
       " 'like': 0.06949679103768976,\n",
       " 'learning': 0.09078191361291467,\n",
       " 'easy': 0.06949679103768976,\n",
       " 'interesting': 0.06949679103768976,\n",
       " 'increases': 0.06949679103768976,\n",
       " 'thinking': 0.06949679103768976,\n",
       " 'everyone': 0.06949679103768976,\n",
       " 'invest': 0.06949679103768976,\n",
       " 'time': 0.06949679103768976}"
      ]
     },
     "execution_count": 19,
     "metadata": {},
     "output_type": "execute_result"
    }
   ],
   "source": [
    "tf_idf_score = {key: tf_score[key] * idf_score.get(key, 0) for key in tf_score.keys()}\n",
    "tf_idf_score"
   ]
  },
  {
   "cell_type": "code",
   "execution_count": 20,
   "metadata": {},
   "outputs": [],
   "source": [
    "def get_top_n(dict_elem, n):\n",
    "    result = dict(sorted(dict_elem.items(), key = itemgetter(1), reverse = True)[:n]) \n",
    "    return result"
   ]
  },
  {
   "cell_type": "code",
   "execution_count": 21,
   "metadata": {},
   "outputs": [
    {
     "data": {
      "text/plain": [
       "{'learning': 0.09078191361291467,\n",
       " 'Python': 0.07994511256220323,\n",
       " 'graduate': 0.06949679103768976,\n",
       " 'want': 0.06949679103768976,\n",
       " 'learn': 0.06949679103768976}"
      ]
     },
     "execution_count": 21,
     "metadata": {},
     "output_type": "execute_result"
    }
   ],
   "source": [
    "get_top_n(tf_idf_score, 5)"
   ]
  },
  {
   "cell_type": "code",
   "execution_count": null,
   "metadata": {},
   "outputs": [],
   "source": []
  }
 ],
 "metadata": {
  "kernelspec": {
   "display_name": "Python 3",
   "language": "python",
   "name": "python3"
  },
  "language_info": {
   "codemirror_mode": {
    "name": "ipython",
    "version": 3
   },
   "file_extension": ".py",
   "mimetype": "text/x-python",
   "name": "python",
   "nbconvert_exporter": "python",
   "pygments_lexer": "ipython3",
   "version": "3.7.5"
  }
 },
 "nbformat": 4,
 "nbformat_minor": 4
}

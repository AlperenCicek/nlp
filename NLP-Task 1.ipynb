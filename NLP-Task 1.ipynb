{
 "cells": [
  {
   "cell_type": "code",
   "execution_count": 102,
   "metadata": {},
   "outputs": [
    {
     "data": {
      "text/plain": [
       "'I wanted you to see what real courage is, instead of getting the idea that courage is a man with a gun in his hand. It’s when you know you’re licked before you begin but you begin anyway and you see it through no matter what. You rarely win, but sometimes you do.'"
      ]
     },
     "execution_count": 102,
     "metadata": {},
     "output_type": "execute_result"
    }
   ],
   "source": [
    "example_sent = \"I wanted you to see what real courage is, instead of getting the idea that courage is a man with a gun in his hand. It’s when you know you’re licked before you begin but you begin anyway and you see it through no matter what. You rarely win, but sometimes you do.\"\n",
    "example_sent"
   ]
  },
  {
   "cell_type": "markdown",
   "metadata": {},
   "source": [
    "**TOKENIZATION**"
   ]
  },
  {
   "cell_type": "markdown",
   "metadata": {},
   "source": [
    "*Tokenization is essentially splitting a phrase, sentence, paragraph, or an entire text document into smaller units, such as individual words or terms.*"
   ]
  },
  {
   "cell_type": "markdown",
   "metadata": {},
   "source": [
    "**Tokenization In NLTK.Tokenize**"
   ]
  },
  {
   "cell_type": "code",
   "execution_count": 187,
   "metadata": {},
   "outputs": [],
   "source": [
    "from nltk.tokenize import word_tokenize\n",
    "word_tokens = word_tokenize(example_sent)"
   ]
  },
  {
   "cell_type": "markdown",
   "metadata": {},
   "source": [
    "**Tokenization In NLTK.RegexpTokenizer**"
   ]
  },
  {
   "cell_type": "code",
   "execution_count": 189,
   "metadata": {},
   "outputs": [],
   "source": [
    "from nltk.tokenize import RegexpTokenizer\n",
    "word_tokens_without_punctuation = RegexpTokenizer(r'\\w+')\n",
    "word_tokens = word_tokens_without_punctuation.tokenize(example_sent)"
   ]
  },
  {
   "cell_type": "code",
   "execution_count": 190,
   "metadata": {
    "scrolled": true
   },
   "outputs": [
    {
     "name": "stdout",
     "output_type": "stream",
     "text": [
      "I\n",
      "wanted\n",
      "you\n",
      "to\n",
      "see\n",
      "what\n",
      "real\n",
      "courage\n",
      "is\n",
      "instead\n",
      "of\n",
      "getting\n",
      "the\n",
      "idea\n",
      "that\n",
      "courage\n",
      "is\n",
      "a\n",
      "man\n",
      "with\n",
      "a\n",
      "gun\n",
      "in\n",
      "his\n",
      "hand\n",
      "It\n",
      "s\n",
      "when\n",
      "you\n",
      "know\n",
      "you\n",
      "re\n",
      "licked\n",
      "before\n",
      "you\n",
      "begin\n",
      "but\n",
      "you\n",
      "begin\n",
      "anyway\n",
      "and\n",
      "you\n",
      "see\n",
      "it\n",
      "through\n",
      "no\n",
      "matter\n",
      "what\n",
      "You\n",
      "rarely\n",
      "win\n",
      "but\n",
      "sometimes\n",
      "you\n",
      "do\n"
     ]
    }
   ],
   "source": [
    "for i in range(len(word_tokens)):\n",
    "    print(word_tokens[i])"
   ]
  },
  {
   "cell_type": "markdown",
   "metadata": {},
   "source": [
    "**Stop Words**"
   ]
  },
  {
   "cell_type": "code",
   "execution_count": 135,
   "metadata": {},
   "outputs": [],
   "source": [
    "from nltk.corpus import stopwords\n",
    "stop_words = set(stopwords.words('english')) \n",
    "#stop_words"
   ]
  },
  {
   "cell_type": "code",
   "execution_count": 153,
   "metadata": {
    "scrolled": false
   },
   "outputs": [
    {
     "data": {
      "text/plain": [
       "['I',\n",
       " 'wanted',\n",
       " 'see',\n",
       " 'real',\n",
       " 'courage',\n",
       " 'instead',\n",
       " 'getting',\n",
       " 'idea',\n",
       " 'courage',\n",
       " 'man',\n",
       " 'gun',\n",
       " 'hand',\n",
       " 'It',\n",
       " 'know',\n",
       " 'licked',\n",
       " 'begin',\n",
       " 'begin',\n",
       " 'anyway',\n",
       " 'see',\n",
       " 'matter',\n",
       " 'You',\n",
       " 'rarely',\n",
       " 'win',\n",
       " 'sometimes']"
      ]
     },
     "execution_count": 153,
     "metadata": {},
     "output_type": "execute_result"
    }
   ],
   "source": [
    "filtered_sw_sentence = []\n",
    "for w in word_tokens: \n",
    "    if w not in stop_words: \n",
    "        filtered_sw_sentence.append(w) \n",
    "filtered_sw_sentence"
   ]
  },
  {
   "cell_type": "markdown",
   "metadata": {},
   "source": [
    "**LEMMATIZATION**"
   ]
  },
  {
   "cell_type": "markdown",
   "metadata": {},
   "source": [
    "*In lemmatization, the words are replaced by the root words or the words with similar context.*"
   ]
  },
  {
   "cell_type": "markdown",
   "metadata": {},
   "source": [
    "**Lemmatization In WordNet**"
   ]
  },
  {
   "cell_type": "code",
   "execution_count": 191,
   "metadata": {
    "scrolled": true
   },
   "outputs": [
    {
     "name": "stderr",
     "output_type": "stream",
     "text": [
      "[nltk_data] Downloading package wordnet to\n",
      "[nltk_data]     C:\\Users\\Alperen\\AppData\\Roaming\\nltk_data...\n",
      "[nltk_data]   Package wordnet is already up-to-date!\n"
     ]
    },
    {
     "data": {
      "text/plain": [
       "True"
      ]
     },
     "execution_count": 191,
     "metadata": {},
     "output_type": "execute_result"
    }
   ],
   "source": [
    "from nltk.stem import WordNetLemmatizer\n",
    "import nltk\n",
    "nltk.download('wordnet')"
   ]
  },
  {
   "cell_type": "code",
   "execution_count": 192,
   "metadata": {},
   "outputs": [],
   "source": [
    "lemmatizated_string_wordnet = []\n",
    "lemmatizer = WordNetLemmatizer()\n",
    "for w in filtered_sw_sentence: \n",
    "    lemmatizated_string_wordnet.append(lemmatizer.lemmatize(str(w)))"
   ]
  },
  {
   "cell_type": "markdown",
   "metadata": {},
   "source": [
    "**Lemmatization In Porter**"
   ]
  },
  {
   "cell_type": "code",
   "execution_count": 193,
   "metadata": {},
   "outputs": [],
   "source": [
    "from nltk.stem import PorterStemmer\n",
    "porter = PorterStemmer()"
   ]
  },
  {
   "cell_type": "code",
   "execution_count": 194,
   "metadata": {},
   "outputs": [],
   "source": [
    "def stemSentence(sentence):\n",
    "    token_words=word_tokenize(sentence)\n",
    "    token_words\n",
    "    stem_sentence=[]\n",
    "    for word in token_words:\n",
    "        stem_sentence.append(porter.stem(word))\n",
    "        stem_sentence.append(\" \")\n",
    "    return \"\".join(stem_sentence)"
   ]
  },
  {
   "cell_type": "code",
   "execution_count": 195,
   "metadata": {},
   "outputs": [],
   "source": [
    "lemmatizated_string_porter = []\n",
    "for i in range(len(filtered_sw_sentence)):\n",
    "    lemmatizated_string_porter.append(stemSentence(filtered_sw_sentence[i]))"
   ]
  },
  {
   "cell_type": "markdown",
   "metadata": {},
   "source": [
    "**Porter vs WordNet In Lemmatization**"
   ]
  },
  {
   "cell_type": "code",
   "execution_count": 177,
   "metadata": {},
   "outputs": [
    {
     "name": "stdout",
     "output_type": "stream",
     "text": [
      "Porter vs WordNet\n",
      "I   <--->  I\n",
      "want   <--->  wanted\n",
      "see   <--->  see\n",
      "real   <--->  real\n",
      "courag   <--->  courage\n",
      "instead   <--->  instead\n",
      "get   <--->  getting\n",
      "idea   <--->  idea\n",
      "courag   <--->  courage\n",
      "man   <--->  man\n",
      "gun   <--->  gun\n",
      "hand   <--->  hand\n",
      "It   <--->  It\n",
      "know   <--->  know\n",
      "lick   <--->  licked\n",
      "begin   <--->  begin\n",
      "begin   <--->  begin\n",
      "anyway   <--->  anyway\n",
      "see   <--->  see\n",
      "matter   <--->  matter\n",
      "you   <--->  You\n",
      "rare   <--->  rarely\n",
      "win   <--->  win\n",
      "sometim   <--->  sometimes\n"
     ]
    }
   ],
   "source": [
    "print(\"Porter vs WordNet\")\n",
    "for i in range(len(lemmatizated_string_porter)):\n",
    "    print(lemmatizated_string_porter[i], \" <---> \", lemmatizated_string_wordnet[i])"
   ]
  },
  {
   "cell_type": "code",
   "execution_count": null,
   "metadata": {},
   "outputs": [],
   "source": []
  }
 ],
 "metadata": {
  "kernelspec": {
   "display_name": "Python 3",
   "language": "python",
   "name": "python3"
  },
  "language_info": {
   "codemirror_mode": {
    "name": "ipython",
    "version": 3
   },
   "file_extension": ".py",
   "mimetype": "text/x-python",
   "name": "python",
   "nbconvert_exporter": "python",
   "pygments_lexer": "ipython3",
   "version": "3.8.3"
  }
 },
 "nbformat": 4,
 "nbformat_minor": 4
}
